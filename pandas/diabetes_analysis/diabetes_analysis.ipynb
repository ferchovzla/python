{
 "cells": [
  {
   "cell_type": "code",
   "execution_count": 3,
   "metadata": {},
   "outputs": [],
   "source": [
    "import pandas as pd\n",
    "import matplotlib.pyplot as plt\n",
    "import seaborn as sns"
   ]
  },
  {
   "cell_type": "markdown",
   "metadata": {},
   "source": [
    "**Se crea el dataframe data_diabetes.**"
   ]
  },
  {
   "cell_type": "code",
   "execution_count": 4,
   "metadata": {},
   "outputs": [],
   "source": [
    "data_diabetes = pd.read_csv(\"./data/Diabetes_es_ext.csv\")\n"
   ]
  },
  {
   "cell_type": "markdown",
   "metadata": {},
   "source": [
    "**Muestra la lista de columnas del dataset data_diabetes.**"
   ]
  },
  {
   "cell_type": "code",
   "execution_count": 5,
   "metadata": {},
   "outputs": [
    {
     "data": {
      "text/plain": [
       "['Embarazos',\n",
       " 'Glucosa',\n",
       " 'Presión sanguínea',\n",
       " 'Pliegue cutáneo',\n",
       " 'Insulina',\n",
       " 'Índice de masa corporal',\n",
       " 'Pedigrí diabetes',\n",
       " 'Edad',\n",
       " 'Diabetes',\n",
       " 'Medicación previa',\n",
       " 'Observaciones',\n",
       " 'Fecha de diagnóstico']"
      ]
     },
     "execution_count": 5,
     "metadata": {},
     "output_type": "execute_result"
    }
   ],
   "source": [
    "list(data_diabetes)"
   ]
  },
  {
   "cell_type": "markdown",
   "metadata": {},
   "source": [
    "**Muestra la descripción de las columnas del dataset con sus respectivos datos estadísticos. Trasponemos los datos para mejor visualización.**"
   ]
  },
  {
   "cell_type": "code",
   "execution_count": 6,
   "metadata": {},
   "outputs": [
    {
     "data": {
      "text/html": [
       "<div>\n",
       "<style scoped>\n",
       "    .dataframe tbody tr th:only-of-type {\n",
       "        vertical-align: middle;\n",
       "    }\n",
       "\n",
       "    .dataframe tbody tr th {\n",
       "        vertical-align: top;\n",
       "    }\n",
       "\n",
       "    .dataframe thead th {\n",
       "        text-align: right;\n",
       "    }\n",
       "</style>\n",
       "<table border=\"1\" class=\"dataframe\">\n",
       "  <thead>\n",
       "    <tr style=\"text-align: right;\">\n",
       "      <th></th>\n",
       "      <th>count</th>\n",
       "      <th>mean</th>\n",
       "      <th>std</th>\n",
       "      <th>min</th>\n",
       "      <th>25%</th>\n",
       "      <th>50%</th>\n",
       "      <th>75%</th>\n",
       "      <th>max</th>\n",
       "    </tr>\n",
       "  </thead>\n",
       "  <tbody>\n",
       "    <tr>\n",
       "      <th>Embarazos</th>\n",
       "      <td>768.0</td>\n",
       "      <td>3.845052</td>\n",
       "      <td>3.369578</td>\n",
       "      <td>0.0</td>\n",
       "      <td>1.0</td>\n",
       "      <td>3.0</td>\n",
       "      <td>6.00</td>\n",
       "      <td>17.0</td>\n",
       "    </tr>\n",
       "    <tr>\n",
       "      <th>Glucosa</th>\n",
       "      <td>768.0</td>\n",
       "      <td>120.894531</td>\n",
       "      <td>31.972618</td>\n",
       "      <td>0.0</td>\n",
       "      <td>99.0</td>\n",
       "      <td>117.0</td>\n",
       "      <td>140.25</td>\n",
       "      <td>199.0</td>\n",
       "    </tr>\n",
       "    <tr>\n",
       "      <th>Presión sanguínea</th>\n",
       "      <td>768.0</td>\n",
       "      <td>69.105469</td>\n",
       "      <td>19.355807</td>\n",
       "      <td>0.0</td>\n",
       "      <td>62.0</td>\n",
       "      <td>72.0</td>\n",
       "      <td>80.00</td>\n",
       "      <td>122.0</td>\n",
       "    </tr>\n",
       "    <tr>\n",
       "      <th>Pliegue cutáneo</th>\n",
       "      <td>768.0</td>\n",
       "      <td>20.536458</td>\n",
       "      <td>15.952218</td>\n",
       "      <td>0.0</td>\n",
       "      <td>0.0</td>\n",
       "      <td>23.0</td>\n",
       "      <td>32.00</td>\n",
       "      <td>99.0</td>\n",
       "    </tr>\n",
       "    <tr>\n",
       "      <th>Insulina</th>\n",
       "      <td>768.0</td>\n",
       "      <td>79.799479</td>\n",
       "      <td>115.244002</td>\n",
       "      <td>0.0</td>\n",
       "      <td>0.0</td>\n",
       "      <td>30.5</td>\n",
       "      <td>127.25</td>\n",
       "      <td>846.0</td>\n",
       "    </tr>\n",
       "    <tr>\n",
       "      <th>Edad</th>\n",
       "      <td>768.0</td>\n",
       "      <td>33.240885</td>\n",
       "      <td>11.760232</td>\n",
       "      <td>21.0</td>\n",
       "      <td>24.0</td>\n",
       "      <td>29.0</td>\n",
       "      <td>41.00</td>\n",
       "      <td>81.0</td>\n",
       "    </tr>\n",
       "  </tbody>\n",
       "</table>\n",
       "</div>"
      ],
      "text/plain": [
       "                   count        mean         std   min   25%    50%     75%  \\\n",
       "Embarazos          768.0    3.845052    3.369578   0.0   1.0    3.0    6.00   \n",
       "Glucosa            768.0  120.894531   31.972618   0.0  99.0  117.0  140.25   \n",
       "Presión sanguínea  768.0   69.105469   19.355807   0.0  62.0   72.0   80.00   \n",
       "Pliegue cutáneo    768.0   20.536458   15.952218   0.0   0.0   23.0   32.00   \n",
       "Insulina           768.0   79.799479  115.244002   0.0   0.0   30.5  127.25   \n",
       "Edad               768.0   33.240885   11.760232  21.0  24.0   29.0   41.00   \n",
       "\n",
       "                     max  \n",
       "Embarazos           17.0  \n",
       "Glucosa            199.0  \n",
       "Presión sanguínea  122.0  \n",
       "Pliegue cutáneo     99.0  \n",
       "Insulina           846.0  \n",
       "Edad                81.0  "
      ]
     },
     "execution_count": 6,
     "metadata": {},
     "output_type": "execute_result"
    }
   ],
   "source": [
    "data_diabetes.describe().T"
   ]
  },
  {
   "cell_type": "markdown",
   "metadata": {},
   "source": [
    "**Se filtran pacientes con edades mayores a 20 y menores e iguales de 45 años y que hayan sido diagnosticados con diabetes. Además se mostrarán solo las columnas: Embarazos, Edad,\tGlucosa, Insulina y Presión sanguínea.**"
   ]
  },
  {
   "cell_type": "code",
   "execution_count": 7,
   "metadata": {},
   "outputs": [],
   "source": [
    "df_d = data_diabetes.query('Edad > 20 and Edad <= 45 and Diabetes ==\"Sí\"')[[\"Embarazos\",\"Edad\",\"Glucosa\",\"Insulina\", \"Presión sanguínea\"]]"
   ]
  },
  {
   "cell_type": "markdown",
   "metadata": {},
   "source": [
    "***Se muestra la lista de datos del query anterior,ordenados por la columna Edad.***"
   ]
  },
  {
   "cell_type": "code",
   "execution_count": 8,
   "metadata": {},
   "outputs": [
    {
     "data": {
      "text/html": [
       "<div>\n",
       "<style scoped>\n",
       "    .dataframe tbody tr th:only-of-type {\n",
       "        vertical-align: middle;\n",
       "    }\n",
       "\n",
       "    .dataframe tbody tr th {\n",
       "        vertical-align: top;\n",
       "    }\n",
       "\n",
       "    .dataframe thead th {\n",
       "        text-align: right;\n",
       "    }\n",
       "</style>\n",
       "<table border=\"1\" class=\"dataframe\">\n",
       "  <thead>\n",
       "    <tr style=\"text-align: right;\">\n",
       "      <th></th>\n",
       "      <th>Embarazos</th>\n",
       "      <th>Edad</th>\n",
       "      <th>Glucosa</th>\n",
       "      <th>Insulina</th>\n",
       "      <th>Presión sanguínea</th>\n",
       "    </tr>\n",
       "  </thead>\n",
       "  <tbody>\n",
       "    <tr>\n",
       "      <th>580</th>\n",
       "      <td>0</td>\n",
       "      <td>21</td>\n",
       "      <td>151</td>\n",
       "      <td>0</td>\n",
       "      <td>90</td>\n",
       "    </tr>\n",
       "    <tr>\n",
       "      <th>414</th>\n",
       "      <td>0</td>\n",
       "      <td>21</td>\n",
       "      <td>138</td>\n",
       "      <td>167</td>\n",
       "      <td>60</td>\n",
       "    </tr>\n",
       "    <tr>\n",
       "      <th>220</th>\n",
       "      <td>0</td>\n",
       "      <td>21</td>\n",
       "      <td>177</td>\n",
       "      <td>478</td>\n",
       "      <td>60</td>\n",
       "    </tr>\n",
       "    <tr>\n",
       "      <th>577</th>\n",
       "      <td>2</td>\n",
       "      <td>21</td>\n",
       "      <td>118</td>\n",
       "      <td>0</td>\n",
       "      <td>80</td>\n",
       "    </tr>\n",
       "    <tr>\n",
       "      <th>255</th>\n",
       "      <td>1</td>\n",
       "      <td>21</td>\n",
       "      <td>113</td>\n",
       "      <td>0</td>\n",
       "      <td>64</td>\n",
       "    </tr>\n",
       "    <tr>\n",
       "      <th>...</th>\n",
       "      <td>...</td>\n",
       "      <td>...</td>\n",
       "      <td>...</td>\n",
       "      <td>...</td>\n",
       "      <td>...</td>\n",
       "    </tr>\n",
       "    <tr>\n",
       "      <th>743</th>\n",
       "      <td>9</td>\n",
       "      <td>45</td>\n",
       "      <td>140</td>\n",
       "      <td>0</td>\n",
       "      <td>94</td>\n",
       "    </tr>\n",
       "    <tr>\n",
       "      <th>387</th>\n",
       "      <td>8</td>\n",
       "      <td>45</td>\n",
       "      <td>105</td>\n",
       "      <td>0</td>\n",
       "      <td>100</td>\n",
       "    </tr>\n",
       "    <tr>\n",
       "      <th>708</th>\n",
       "      <td>9</td>\n",
       "      <td>45</td>\n",
       "      <td>164</td>\n",
       "      <td>0</td>\n",
       "      <td>78</td>\n",
       "    </tr>\n",
       "    <tr>\n",
       "      <th>493</th>\n",
       "      <td>4</td>\n",
       "      <td>45</td>\n",
       "      <td>125</td>\n",
       "      <td>122</td>\n",
       "      <td>70</td>\n",
       "    </tr>\n",
       "    <tr>\n",
       "      <th>590</th>\n",
       "      <td>11</td>\n",
       "      <td>45</td>\n",
       "      <td>111</td>\n",
       "      <td>0</td>\n",
       "      <td>84</td>\n",
       "    </tr>\n",
       "  </tbody>\n",
       "</table>\n",
       "<p>210 rows × 5 columns</p>\n",
       "</div>"
      ],
      "text/plain": [
       "     Embarazos  Edad  Glucosa  Insulina  Presión sanguínea\n",
       "580          0    21      151         0                 90\n",
       "414          0    21      138       167                 60\n",
       "220          0    21      177       478                 60\n",
       "577          2    21      118         0                 80\n",
       "255          1    21      113         0                 64\n",
       "..         ...   ...      ...       ...                ...\n",
       "743          9    45      140         0                 94\n",
       "387          8    45      105         0                100\n",
       "708          9    45      164         0                 78\n",
       "493          4    45      125       122                 70\n",
       "590         11    45      111         0                 84\n",
       "\n",
       "[210 rows x 5 columns]"
      ]
     },
     "execution_count": 8,
     "metadata": {},
     "output_type": "execute_result"
    }
   ],
   "source": [
    "df_d.sort_values([\"Edad\"])"
   ]
  },
  {
   "cell_type": "markdown",
   "metadata": {},
   "source": [
    "**Con la funcion .info(), se muestran las columnas del dataset, con sus respectivos tipos de datos. Tenemos 12 campos en total, 6 campos de tipo entero (int64) y 6 de tipo objeto (object). El rango de los índices van de 0 a 767 (RangeIndex: 768 entries, 0 to 767) lo cual me indica que contiene 768 filas. Con un uso de memoria de 72.1+ KB (memory usage: 72.1+ KB).**"
   ]
  },
  {
   "cell_type": "code",
   "execution_count": 9,
   "metadata": {},
   "outputs": [
    {
     "name": "stdout",
     "output_type": "stream",
     "text": [
      "<class 'pandas.core.frame.DataFrame'>\n",
      "RangeIndex: 768 entries, 0 to 767\n",
      "Data columns (total 12 columns):\n",
      " #   Column                   Non-Null Count  Dtype \n",
      "---  ------                   --------------  ----- \n",
      " 0   Embarazos                768 non-null    int64 \n",
      " 1   Glucosa                  768 non-null    int64 \n",
      " 2   Presión sanguínea        768 non-null    int64 \n",
      " 3   Pliegue cutáneo          768 non-null    int64 \n",
      " 4   Insulina                 768 non-null    int64 \n",
      " 5   Índice de masa corporal  768 non-null    object\n",
      " 6   Pedigrí diabetes         768 non-null    object\n",
      " 7   Edad                     768 non-null    int64 \n",
      " 8   Diabetes                 768 non-null    object\n",
      " 9   Medicación previa        14 non-null     object\n",
      " 10  Observaciones            13 non-null     object\n",
      " 11  Fecha de diagnóstico     768 non-null    object\n",
      "dtypes: int64(6), object(6)\n",
      "memory usage: 72.1+ KB\n"
     ]
    }
   ],
   "source": [
    "data_diabetes.info()"
   ]
  },
  {
   "cell_type": "markdown",
   "metadata": {},
   "source": [
    "***La propiedad .shape muestra las dimensiones del dataset, para el ejemplo tenemos que data_diabetes cuenta con 768 filas y 12 columnas es decir una matriz de 768x12.***"
   ]
  },
  {
   "cell_type": "code",
   "execution_count": 10,
   "metadata": {},
   "outputs": [
    {
     "data": {
      "text/plain": [
       "(768, 12)"
      ]
     },
     "execution_count": 10,
     "metadata": {},
     "output_type": "execute_result"
    }
   ],
   "source": [
    "data_diabetes.shape"
   ]
  },
  {
   "cell_type": "code",
   "execution_count": 11,
   "metadata": {},
   "outputs": [
    {
     "data": {
      "text/plain": [
       "Embarazos                  4\n",
       "Glucosa                    4\n",
       "Presión sanguínea          4\n",
       "Pliegue cutáneo            4\n",
       "Insulina                   4\n",
       "Índice de masa corporal    4\n",
       "Pedigrí diabetes           4\n",
       "Edad                       4\n",
       "Diabetes                   4\n",
       "Medicación previa          0\n",
       "Observaciones              0\n",
       "Fecha de diagnóstico       4\n",
       "dtype: int64"
      ]
     },
     "execution_count": 11,
     "metadata": {},
     "output_type": "execute_result"
    }
   ],
   "source": [
    "data_diabetes.query('Glucosa >=78 and Glucosa <=85 and Diabetes ==\"Sí\"').count()"
   ]
  },
  {
   "cell_type": "code",
   "execution_count": null,
   "metadata": {},
   "outputs": [],
   "source": []
  },
  {
   "cell_type": "code",
   "execution_count": null,
   "metadata": {},
   "outputs": [],
   "source": []
  }
 ],
 "metadata": {
  "kernelspec": {
   "display_name": "py_36_env",
   "language": "python",
   "name": "py_36_env"
  },
  "language_info": {
   "codemirror_mode": {
    "name": "ipython",
    "version": 3
   },
   "file_extension": ".py",
   "mimetype": "text/x-python",
   "name": "python",
   "nbconvert_exporter": "python",
   "pygments_lexer": "ipython3",
   "version": "3.6.9"
  }
 },
 "nbformat": 4,
 "nbformat_minor": 2
}
